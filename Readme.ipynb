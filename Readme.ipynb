{
 "metadata": {
  "language": "Julia",
  "name": "",
  "signature": "sha256:b67e664eccb5723ba24724794fa4456b7cd080a0c01ec88a2c6a427321a05d3a"
 },
 "nbformat": 3,
 "nbformat_minor": 0,
 "worksheets": [
  {
   "cells": [
    {
     "cell_type": "markdown",
     "metadata": {},
     "source": [
      "# status\n",
      "\n",
      "Provides HTTP status code/message translation\n",
      "\n",
      "## Installation\n",
      "\n",
      "With [packin](//github.com/jkroso/packin): `packin add coiljl/status`"
     ]
    },
    {
     "cell_type": "code",
     "collapsed": false,
     "input": [
      "@require \"status\" codes messages;"
     ],
     "language": "python",
     "metadata": {},
     "outputs": [],
     "prompt_number": 1
    },
    {
     "cell_type": "markdown",
     "metadata": {},
     "source": [
      "## API\n",
      "\n",
      "### `codes[msg::String]`\n",
      "\n",
      "Translates status messages into status codes"
     ]
    },
    {
     "cell_type": "code",
     "collapsed": false,
     "input": [
      "codes[\"OK\"]"
     ],
     "language": "python",
     "metadata": {},
     "outputs": [
      {
       "metadata": {},
       "output_type": "pyout",
       "prompt_number": 2,
       "text": [
        "0x00c8"
       ]
      }
     ],
     "prompt_number": 2
    },
    {
     "cell_type": "markdown",
     "metadata": {},
     "source": [
      "### `messages[code::Integer]`\n",
      "\n",
      "The reverse of above"
     ]
    },
    {
     "cell_type": "code",
     "collapsed": false,
     "input": [
      "messages[200]"
     ],
     "language": "python",
     "metadata": {},
     "outputs": [
      {
       "metadata": {},
       "output_type": "pyout",
       "prompt_number": 3,
       "text": [
        "\"OK\""
       ]
      }
     ],
     "prompt_number": 3
    }
   ],
   "metadata": {}
  }
 ]
}